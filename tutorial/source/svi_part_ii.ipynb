{
 "metadata": {
  "language_info": {
   "codemirror_mode": {
    "name": "ipython",
    "version": 3
   },
   "file_extension": ".py",
   "mimetype": "text/x-python",
   "name": "python",
   "nbconvert_exporter": "python",
   "pygments_lexer": "ipython3",
   "version": "3.7.3-final"
  },
  "orig_nbformat": 2,
  "kernelspec": {
   "name": "Python 3.7.3 64-bit ('base': conda)",
   "display_name": "Python 3.7.3 64-bit ('base': conda)",
   "metadata": {
    "interpreter": {
     "hash": "0dcf05331331650ce70167f1143aecfb7536ceb849ee2d9bff26d39b6388afd0"
    }
   }
  }
 },
 "nbformat": 4,
 "nbformat_minor": 2,
 "cells": [
  {
   "cell_type": "code",
   "execution_count": 1,
   "metadata": {},
   "outputs": [],
   "source": [
    "import pyro\n",
    "import torch\n",
    "import pyro.distributions as dist \n",
    "import numpy as np\n",
    "from matplotlib import pyplot as plt"
   ]
  },
  {
   "cell_type": "code",
   "execution_count": 10,
   "metadata": {},
   "outputs": [],
   "source": [
    "data = []\n",
    "for _ in range(6):\n",
    "    data.append(torch.tensor(1.0))\n",
    "for _ in range(4):\n",
    "    data.append(torch.tensor(0.0))"
   ]
  },
  {
   "cell_type": "code",
   "execution_count": 13,
   "metadata": {},
   "outputs": [],
   "source": [
    "alpha0 = torch.tensor(10.0)\n",
    "beta0 = torch.tensor(10.0)"
   ]
  },
  {
   "cell_type": "code",
   "execution_count": 16,
   "metadata": {},
   "outputs": [],
   "source": [
    "def model(data):\n",
    "    #sample f from the beta prior\n",
    "    f = pyro.sample('latent_fairness', dist.Beta(alpha0, beta0))\n",
    "    #loop over the observed data using pyro.sample with the obs keyword\n",
    "    for i in range(len(data)):\n",
    "        pyro.sample(f'obs_{i}', dist.Bernoulli(f), obs=data[i])"
   ]
  },
  {
   "cell_type": "code",
   "execution_count": 62,
   "metadata": {},
   "outputs": [],
   "source": [
    "def model(data):\n",
    "    #sample f from the beta prior\n",
    "    f = pyro.sample('latent_fairness', dist.Beta(alpha0, beta0))\n",
    "    #loop over the observed data using pyro.sample with the obs keyword\n",
    "    for i in pyro.plate('data_loop', len(data)):\n",
    "        pyro.sample(f'obs_{i}', dist.Bernoulli(f), obs=data[i])"
   ]
  },
  {
   "cell_type": "code",
   "execution_count": 63,
   "metadata": {
    "tags": []
   },
   "outputs": [],
   "source": [
    "#DO NOT do _this_\n",
    "my_reified_list = list(pyro.plate('data_loop', len(data)))\n",
    "for i in my_reified_list:\n",
    "    pyro.sample(f'obs_{i}', dist.Bernoulli(f), obs=data[i])"
   ]
  },
  {
   "cell_type": "code",
   "execution_count": 76,
   "metadata": {},
   "outputs": [
    {
     "output_type": "execute_result",
     "data": {
      "text/plain": "tensor([1., 1., 1., 1., 1., 1., 0., 0., 0., 0.])"
     },
     "metadata": {},
     "execution_count": 76
    }
   ],
   "source": [
    "data = torch.zeros(10)\n",
    "data[0:6] = torch.ones(6)\n",
    "data"
   ]
  },
  {
   "cell_type": "code",
   "execution_count": 79,
   "metadata": {
    "tags": []
   },
   "outputs": [
    {
     "output_type": "stream",
     "name": "stdout",
     "text": "37.5 µs ± 240 ns per loop (mean ± std. dev. of 7 runs, 10000 loops each)\n"
    }
   ],
   "source": [
    "%%timeit \n",
    "\n",
    "with pyro.plate('observed_data'):\n",
    "    pyro.sample('obs', dist.Bernoulli(f), obs=data)"
   ]
  },
  {
   "cell_type": "code",
   "execution_count": 81,
   "metadata": {
    "tags": []
   },
   "outputs": [
    {
     "output_type": "stream",
     "name": "stdout",
     "text": "480 µs ± 3.38 µs per loop (mean ± std. dev. of 7 runs, 1000 loops each)\n"
    }
   ],
   "source": [
    "%timeit model(data)"
   ]
  },
  {
   "cell_type": "code",
   "execution_count": 121,
   "metadata": {
    "tags": []
   },
   "outputs": [],
   "source": [
    "for i in pyro.plate('data_loop', len(data), subsample_size=5):\n",
    "    pyro.sample(f'obs_{i}', dist.Bernoulli(f), obs=data[i])"
   ]
  },
  {
   "cell_type": "code",
   "execution_count": 142,
   "metadata": {
    "tags": []
   },
   "outputs": [],
   "source": [
    "with pyro.plate('observed_data', size=10, subsample_size=5) as ind:\n",
    "    pyro.sample('obs', dist.Bernoulli(f), obs=data.index_select(0, ind))"
   ]
  },
  {
   "cell_type": "code",
   "execution_count": null,
   "metadata": {},
   "outputs": [],
   "source": []
  }
 ]
}